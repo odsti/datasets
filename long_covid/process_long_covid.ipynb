{
 "cells": [
  {
   "cell_type": "markdown",
   "id": "c3718cea",
   "metadata": {},
   "source": [
    "# Data on belief and serology in long Covid"
   ]
  },
  {
   "cell_type": "code",
   "execution_count": 1,
   "id": "1ce81c8a",
   "metadata": {},
   "outputs": [],
   "source": [
    "from pathlib import Path\n",
    "\n",
    "import numpy as np\n",
    "import pandas as pd"
   ]
  },
  {
   "cell_type": "markdown",
   "id": "ee5c3300",
   "metadata": {},
   "source": [
    "Here are the data from the end of eTable 4, copy-pasted into a `.csv` file:"
   ]
  },
  {
   "cell_type": "code",
   "execution_count": 2,
   "id": "ca2e2d60",
   "metadata": {},
   "outputs": [
    {
     "data": {
      "text/html": [
       "<div>\n",
       "<style scoped>\n",
       "    .dataframe tbody tr th:only-of-type {\n",
       "        vertical-align: middle;\n",
       "    }\n",
       "\n",
       "    .dataframe tbody tr th {\n",
       "        vertical-align: top;\n",
       "    }\n",
       "\n",
       "    .dataframe thead th {\n",
       "        text-align: right;\n",
       "    }\n",
       "</style>\n",
       "<table border=\"1\" class=\"dataframe\">\n",
       "  <thead>\n",
       "    <tr style=\"text-align: right;\">\n",
       "      <th></th>\n",
       "      <th>Belief-,Serology-</th>\n",
       "      <th>Belief+,Serology-</th>\n",
       "      <th>Belief-,Serology+</th>\n",
       "      <th>Belief+,Serology+</th>\n",
       "    </tr>\n",
       "    <tr>\n",
       "      <th>Self-rated health</th>\n",
       "      <th></th>\n",
       "      <th></th>\n",
       "      <th></th>\n",
       "      <th></th>\n",
       "    </tr>\n",
       "  </thead>\n",
       "  <tbody>\n",
       "    <tr>\n",
       "      <th>1</th>\n",
       "      <td>3901</td>\n",
       "      <td>60</td>\n",
       "      <td>102</td>\n",
       "      <td>72</td>\n",
       "    </tr>\n",
       "    <tr>\n",
       "      <th>2</th>\n",
       "      <td>12547</td>\n",
       "      <td>234</td>\n",
       "      <td>346</td>\n",
       "      <td>226</td>\n",
       "    </tr>\n",
       "    <tr>\n",
       "      <th>3</th>\n",
       "      <td>5454</td>\n",
       "      <td>114</td>\n",
       "      <td>121</td>\n",
       "      <td>94</td>\n",
       "    </tr>\n",
       "    <tr>\n",
       "      <th>4</th>\n",
       "      <td>1627</td>\n",
       "      <td>23</td>\n",
       "      <td>33</td>\n",
       "      <td>33</td>\n",
       "    </tr>\n",
       "    <tr>\n",
       "      <th>5</th>\n",
       "      <td>776</td>\n",
       "      <td>11</td>\n",
       "      <td>15</td>\n",
       "      <td>11</td>\n",
       "    </tr>\n",
       "    <tr>\n",
       "      <th>6</th>\n",
       "      <td>523</td>\n",
       "      <td>10</td>\n",
       "      <td>9</td>\n",
       "      <td>12</td>\n",
       "    </tr>\n",
       "    <tr>\n",
       "      <th>7</th>\n",
       "      <td>192</td>\n",
       "      <td>3</td>\n",
       "      <td>6</td>\n",
       "      <td>3</td>\n",
       "    </tr>\n",
       "    <tr>\n",
       "      <th>8</th>\n",
       "      <td>61</td>\n",
       "      <td>1</td>\n",
       "      <td>0</td>\n",
       "      <td>0</td>\n",
       "    </tr>\n",
       "  </tbody>\n",
       "</table>\n",
       "</div>"
      ],
      "text/plain": [
       "                   Belief-,Serology-  Belief+,Serology-  Belief-,Serology+  \\\n",
       "Self-rated health                                                            \n",
       "1                               3901                 60                102   \n",
       "2                              12547                234                346   \n",
       "3                               5454                114                121   \n",
       "4                               1627                 23                 33   \n",
       "5                                776                 11                 15   \n",
       "6                                523                 10                  9   \n",
       "7                                192                  3                  6   \n",
       "8                                 61                  1                  0   \n",
       "\n",
       "                   Belief+,Serology+  \n",
       "Self-rated health                     \n",
       "1                                 72  \n",
       "2                                226  \n",
       "3                                 94  \n",
       "4                                 33  \n",
       "5                                 11  \n",
       "6                                 12  \n",
       "7                                  3  \n",
       "8                                  0  "
      ]
     },
     "execution_count": 2,
     "metadata": {},
     "output_type": "execute_result"
    }
   ],
   "source": [
    "orig_tab_e4 = Path('original') / 'matta_table_e4.csv'\n",
    "df = pd.read_csv(orig_tab_e4).set_index('Self-rated health')\n",
    "df"
   ]
  },
  {
   "cell_type": "markdown",
   "id": "8d6cac84",
   "metadata": {},
   "source": [
    "The table corresponds to the following number of participants with valid data\n",
    "for self-rated health:"
   ]
  },
  {
   "cell_type": "code",
   "execution_count": 3,
   "id": "04f71732",
   "metadata": {},
   "outputs": [
    {
     "data": {
      "text/plain": [
       "26620"
      ]
     },
     "execution_count": 3,
     "metadata": {},
     "output_type": "execute_result"
    }
   ],
   "source": [
    "np.sum(np.array(df))"
   ]
  },
  {
   "cell_type": "markdown",
   "id": "529b4de6",
   "metadata": {},
   "source": [
    "Next we reconstruct a data frame with the underlying data for the individual\n",
    "subjects:"
   ]
  },
  {
   "cell_type": "code",
   "execution_count": 4,
   "id": "010ccabe",
   "metadata": {},
   "outputs": [
    {
     "data": {
      "text/html": [
       "<div>\n",
       "<style scoped>\n",
       "    .dataframe tbody tr th:only-of-type {\n",
       "        vertical-align: middle;\n",
       "    }\n",
       "\n",
       "    .dataframe tbody tr th {\n",
       "        vertical-align: top;\n",
       "    }\n",
       "\n",
       "    .dataframe thead th {\n",
       "        text-align: right;\n",
       "    }\n",
       "</style>\n",
       "<table border=\"1\" class=\"dataframe\">\n",
       "  <thead>\n",
       "    <tr style=\"text-align: right;\">\n",
       "      <th></th>\n",
       "      <th>health_2019</th>\n",
       "      <th>belief</th>\n",
       "      <th>serology</th>\n",
       "    </tr>\n",
       "  </thead>\n",
       "  <tbody>\n",
       "    <tr>\n",
       "      <th>0</th>\n",
       "      <td>1</td>\n",
       "      <td>0</td>\n",
       "      <td>0</td>\n",
       "    </tr>\n",
       "    <tr>\n",
       "      <th>1</th>\n",
       "      <td>1</td>\n",
       "      <td>0</td>\n",
       "      <td>0</td>\n",
       "    </tr>\n",
       "    <tr>\n",
       "      <th>2</th>\n",
       "      <td>1</td>\n",
       "      <td>0</td>\n",
       "      <td>0</td>\n",
       "    </tr>\n",
       "    <tr>\n",
       "      <th>3</th>\n",
       "      <td>1</td>\n",
       "      <td>0</td>\n",
       "      <td>0</td>\n",
       "    </tr>\n",
       "    <tr>\n",
       "      <th>4</th>\n",
       "      <td>1</td>\n",
       "      <td>0</td>\n",
       "      <td>0</td>\n",
       "    </tr>\n",
       "    <tr>\n",
       "      <th>...</th>\n",
       "      <td>...</td>\n",
       "      <td>...</td>\n",
       "      <td>...</td>\n",
       "    </tr>\n",
       "    <tr>\n",
       "      <th>26615</th>\n",
       "      <td>8</td>\n",
       "      <td>0</td>\n",
       "      <td>0</td>\n",
       "    </tr>\n",
       "    <tr>\n",
       "      <th>26616</th>\n",
       "      <td>8</td>\n",
       "      <td>0</td>\n",
       "      <td>0</td>\n",
       "    </tr>\n",
       "    <tr>\n",
       "      <th>26617</th>\n",
       "      <td>8</td>\n",
       "      <td>0</td>\n",
       "      <td>0</td>\n",
       "    </tr>\n",
       "    <tr>\n",
       "      <th>26618</th>\n",
       "      <td>8</td>\n",
       "      <td>0</td>\n",
       "      <td>0</td>\n",
       "    </tr>\n",
       "    <tr>\n",
       "      <th>26619</th>\n",
       "      <td>8</td>\n",
       "      <td>1</td>\n",
       "      <td>0</td>\n",
       "    </tr>\n",
       "  </tbody>\n",
       "</table>\n",
       "<p>26620 rows × 3 columns</p>\n",
       "</div>"
      ],
      "text/plain": [
       "       health_2019  belief  serology\n",
       "0                1       0         0\n",
       "1                1       0         0\n",
       "2                1       0         0\n",
       "3                1       0         0\n",
       "4                1       0         0\n",
       "...            ...     ...       ...\n",
       "26615            8       0         0\n",
       "26616            8       0         0\n",
       "26617            8       0         0\n",
       "26618            8       0         0\n",
       "26619            8       1         0\n",
       "\n",
       "[26620 rows x 3 columns]"
      ]
     },
     "execution_count": 4,
     "metadata": {},
     "output_type": "execute_result"
    }
   ],
   "source": [
    "dfs = []\n",
    "char2code = {'-': 0, '+': 1}\n",
    "for health in range(1, 9):\n",
    "    for belief_char in '-+':\n",
    "        belief_code = char2code[belief_char]\n",
    "        for sero_char in '-+':\n",
    "            sero_code = char2code[sero_char]\n",
    "            col = f'Belief{belief_char},Serology{sero_char}'\n",
    "            count = df.loc[health, col]\n",
    "            dfs.append(pd.DataFrame({'health_2019': [health] * count,\n",
    "                                     'belief': [belief_code] * count,\n",
    "                                     'serology': [sero_code] * count}))\n",
    "patients = pd.concat(dfs).reset_index(drop=True).astype(int)\n",
    "patients"
   ]
  },
  {
   "cell_type": "markdown",
   "id": "f41db1bb",
   "metadata": {},
   "source": [
    "Here is a basic break-down of self-reported health (in 2019) by belief and\n",
    "serology (in 2020 and later):"
   ]
  },
  {
   "cell_type": "code",
   "execution_count": 5,
   "id": "b8b8efff",
   "metadata": {},
   "outputs": [
    {
     "data": {
      "text/html": [
       "<div>\n",
       "<style scoped>\n",
       "    .dataframe tbody tr th:only-of-type {\n",
       "        vertical-align: middle;\n",
       "    }\n",
       "\n",
       "    .dataframe tbody tr th {\n",
       "        vertical-align: top;\n",
       "    }\n",
       "\n",
       "    .dataframe thead th {\n",
       "        text-align: right;\n",
       "    }\n",
       "</style>\n",
       "<table border=\"1\" class=\"dataframe\">\n",
       "  <thead>\n",
       "    <tr style=\"text-align: right;\">\n",
       "      <th></th>\n",
       "      <th></th>\n",
       "      <th>health_2019</th>\n",
       "    </tr>\n",
       "    <tr>\n",
       "      <th>belief</th>\n",
       "      <th>serology</th>\n",
       "      <th></th>\n",
       "    </tr>\n",
       "  </thead>\n",
       "  <tbody>\n",
       "    <tr>\n",
       "      <th rowspan=\"2\" valign=\"top\">0</th>\n",
       "      <th>0</th>\n",
       "      <td>2.420757</td>\n",
       "    </tr>\n",
       "    <tr>\n",
       "      <th>1</th>\n",
       "      <td>2.310127</td>\n",
       "    </tr>\n",
       "    <tr>\n",
       "      <th rowspan=\"2\" valign=\"top\">1</th>\n",
       "      <th>0</th>\n",
       "      <td>2.425439</td>\n",
       "    </tr>\n",
       "    <tr>\n",
       "      <th>1</th>\n",
       "      <td>2.407982</td>\n",
       "    </tr>\n",
       "  </tbody>\n",
       "</table>\n",
       "</div>"
      ],
      "text/plain": [
       "                 health_2019\n",
       "belief serology             \n",
       "0      0            2.420757\n",
       "       1            2.310127\n",
       "1      0            2.425439\n",
       "       1            2.407982"
      ]
     },
     "execution_count": 5,
     "metadata": {},
     "output_type": "execute_result"
    }
   ],
   "source": [
    "patients.groupby(['belief', 'serology']).mean()"
   ]
  },
  {
   "cell_type": "markdown",
   "id": "9bfff136",
   "metadata": {},
   "source": [
    "Note that lower health scores correspond to better health.\n",
    "\n",
    "Save the data in a processed data frame:"
   ]
  },
  {
   "cell_type": "code",
   "execution_count": 6,
   "id": "a6005b14",
   "metadata": {},
   "outputs": [],
   "source": [
    "out_path = Path('processed') / 'long_covid_health.csv'\n",
    "patients.to_csv(out_path, index=None)"
   ]
  },
  {
   "cell_type": "markdown",
   "id": "330c0275",
   "metadata": {},
   "source": [
    "Read-back as smoke-test:"
   ]
  },
  {
   "cell_type": "code",
   "execution_count": 7,
   "id": "3715041a",
   "metadata": {
    "lines_to_next_cell": 0
   },
   "outputs": [
    {
     "data": {
      "text/html": [
       "<div>\n",
       "<style scoped>\n",
       "    .dataframe tbody tr th:only-of-type {\n",
       "        vertical-align: middle;\n",
       "    }\n",
       "\n",
       "    .dataframe tbody tr th {\n",
       "        vertical-align: top;\n",
       "    }\n",
       "\n",
       "    .dataframe thead th {\n",
       "        text-align: right;\n",
       "    }\n",
       "</style>\n",
       "<table border=\"1\" class=\"dataframe\">\n",
       "  <thead>\n",
       "    <tr style=\"text-align: right;\">\n",
       "      <th></th>\n",
       "      <th>health_2019</th>\n",
       "      <th>belief</th>\n",
       "      <th>serology</th>\n",
       "    </tr>\n",
       "  </thead>\n",
       "  <tbody>\n",
       "    <tr>\n",
       "      <th>0</th>\n",
       "      <td>1</td>\n",
       "      <td>0</td>\n",
       "      <td>0</td>\n",
       "    </tr>\n",
       "    <tr>\n",
       "      <th>1</th>\n",
       "      <td>1</td>\n",
       "      <td>0</td>\n",
       "      <td>0</td>\n",
       "    </tr>\n",
       "    <tr>\n",
       "      <th>2</th>\n",
       "      <td>1</td>\n",
       "      <td>0</td>\n",
       "      <td>0</td>\n",
       "    </tr>\n",
       "    <tr>\n",
       "      <th>3</th>\n",
       "      <td>1</td>\n",
       "      <td>0</td>\n",
       "      <td>0</td>\n",
       "    </tr>\n",
       "    <tr>\n",
       "      <th>4</th>\n",
       "      <td>1</td>\n",
       "      <td>0</td>\n",
       "      <td>0</td>\n",
       "    </tr>\n",
       "  </tbody>\n",
       "</table>\n",
       "</div>"
      ],
      "text/plain": [
       "   health_2019  belief  serology\n",
       "0            1       0         0\n",
       "1            1       0         0\n",
       "2            1       0         0\n",
       "3            1       0         0\n",
       "4            1       0         0"
      ]
     },
     "execution_count": 7,
     "metadata": {},
     "output_type": "execute_result"
    }
   ],
   "source": [
    "pd.read_csv(out_path).head()"
   ]
  }
 ],
 "metadata": {
  "jupytext": {
   "notebook_metadata_filter": "all,-language_info",
   "split_at_heading": true
  },
  "kernelspec": {
   "display_name": "Python 3 (ipykernel)",
   "language": "python",
   "name": "python3"
  },
  "language_info": {
   "codemirror_mode": {
    "name": "ipython",
    "version": 3
   },
   "file_extension": ".py",
   "mimetype": "text/x-python",
   "name": "python",
   "nbconvert_exporter": "python",
   "pygments_lexer": "ipython3",
   "version": "3.10.7"
  }
 },
 "nbformat": 4,
 "nbformat_minor": 5
}
