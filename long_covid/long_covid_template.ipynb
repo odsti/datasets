{
 "cells": [
  {
   "cell_type": "markdown",
   "id": "a2d35dc4",
   "metadata": {},
   "source": [
    "# long_covid"
   ]
  },
  {
   "cell_type": "code",
   "execution_count": 1,
   "id": "62332966",
   "metadata": {},
   "outputs": [
    {
     "name": "stdout",
     "output_type": "stream",
     "text": [
      "=====================================================================\n",
      "Assignment: long covid\n",
      "OK, version v1.18.1\n",
      "=====================================================================\n",
      "\n"
     ]
    }
   ],
   "source": [
    "# Don't change this cell; just run it.\n",
    "import numpy as np  # The array library.\n",
    "import pandas as pd  # A library for loading tables.\n",
    "\n",
    "# The OKpy testing system.\n",
    "from client.api.notebook import Notebook\n",
    "ok = Notebook('long_covid.ok')"
   ]
  },
  {
   "cell_type": "markdown",
   "id": "dadd1370",
   "metadata": {},
   "source": [
    "## Loading the data\n",
    "\n",
    "These data come from Matta et al's supplementary\n",
    "material](https://cdn.jamanetwork.com/ama/content_public/journal/intemed/938839/ioi210066supp1_prod_1647627389.20501.pdf?Expires=1672986105&Signature=POBPWVqfFjiQjfJkNYkEORFAl94cWc-C5BSowE2m6lh2EpSBvooGrnzZyrUSQmo0d3-D~L5dtSloJ8Jzq~0KncVeLzwsot3MPYt5PEhqfT0aWEReWT1jV6XTn9MTc2rQjND7OmTjKyvvnxWMjV-bZ4lN8zCsWeMqLjqL859EVrtPfp5eTTSUwdA0qJIhMnAZyBC6iIajkdS-Jj4JYBaYoLTT7iloZEdqPhHzc95VvuiLpJGojbtoMqDYeqrGaSwoYimHRuc4asyPXqvhdcd-svUchv-SInYT6G~yk80EoEI6pLwDAof04ekVWwKAcZNCCdyItXfn07rB3ok9QhRx9g__&Key-Pair-Id=APKAIE5G5CRDK6RD3PGA)"
   ]
  },
  {
   "cell_type": "code",
   "execution_count": 2,
   "id": "3b233db5",
   "metadata": {
    "lines_to_next_cell": 2
   },
   "outputs": [
    {
     "data": {
      "text/html": [
       "<div>\n",
       "<style scoped>\n",
       "    .dataframe tbody tr th:only-of-type {\n",
       "        vertical-align: middle;\n",
       "    }\n",
       "\n",
       "    .dataframe tbody tr th {\n",
       "        vertical-align: top;\n",
       "    }\n",
       "\n",
       "    .dataframe thead th {\n",
       "        text-align: right;\n",
       "    }\n",
       "</style>\n",
       "<table border=\"1\" class=\"dataframe\">\n",
       "  <thead>\n",
       "    <tr style=\"text-align: right;\">\n",
       "      <th></th>\n",
       "      <th>Belief-,Serology-</th>\n",
       "      <th>Belief+,Serology-</th>\n",
       "      <th>Belief-,Serology+</th>\n",
       "      <th>Belief+,Serology+</th>\n",
       "    </tr>\n",
       "    <tr>\n",
       "      <th>Self-rated health</th>\n",
       "      <th></th>\n",
       "      <th></th>\n",
       "      <th></th>\n",
       "      <th></th>\n",
       "    </tr>\n",
       "  </thead>\n",
       "  <tbody>\n",
       "    <tr>\n",
       "      <th>1</th>\n",
       "      <td>3901</td>\n",
       "      <td>60</td>\n",
       "      <td>102</td>\n",
       "      <td>72</td>\n",
       "    </tr>\n",
       "    <tr>\n",
       "      <th>2</th>\n",
       "      <td>12547</td>\n",
       "      <td>234</td>\n",
       "      <td>346</td>\n",
       "      <td>226</td>\n",
       "    </tr>\n",
       "    <tr>\n",
       "      <th>3</th>\n",
       "      <td>5454</td>\n",
       "      <td>114</td>\n",
       "      <td>121</td>\n",
       "      <td>94</td>\n",
       "    </tr>\n",
       "    <tr>\n",
       "      <th>4</th>\n",
       "      <td>1627</td>\n",
       "      <td>23</td>\n",
       "      <td>33</td>\n",
       "      <td>33</td>\n",
       "    </tr>\n",
       "    <tr>\n",
       "      <th>5</th>\n",
       "      <td>776</td>\n",
       "      <td>11</td>\n",
       "      <td>15</td>\n",
       "      <td>11</td>\n",
       "    </tr>\n",
       "    <tr>\n",
       "      <th>6</th>\n",
       "      <td>523</td>\n",
       "      <td>10</td>\n",
       "      <td>9</td>\n",
       "      <td>12</td>\n",
       "    </tr>\n",
       "    <tr>\n",
       "      <th>7</th>\n",
       "      <td>192</td>\n",
       "      <td>3</td>\n",
       "      <td>6</td>\n",
       "      <td>3</td>\n",
       "    </tr>\n",
       "    <tr>\n",
       "      <th>8</th>\n",
       "      <td>61</td>\n",
       "      <td>1</td>\n",
       "      <td>0</td>\n",
       "      <td>0</td>\n",
       "    </tr>\n",
       "  </tbody>\n",
       "</table>\n",
       "</div>"
      ],
      "text/plain": [
       "                   Belief-,Serology-  Belief+,Serology-  Belief-,Serology+  \\\n",
       "Self-rated health                                                            \n",
       "1                               3901                 60                102   \n",
       "2                              12547                234                346   \n",
       "3                               5454                114                121   \n",
       "4                               1627                 23                 33   \n",
       "5                                776                 11                 15   \n",
       "6                                523                 10                  9   \n",
       "7                                192                  3                  6   \n",
       "8                                 61                  1                  0   \n",
       "\n",
       "                   Belief+,Serology+  \n",
       "Self-rated health                     \n",
       "1                                 72  \n",
       "2                                226  \n",
       "3                                 94  \n",
       "4                                 33  \n",
       "5                                 11  \n",
       "6                                 12  \n",
       "7                                  3  \n",
       "8                                  0  "
      ]
     },
     "execution_count": 2,
     "metadata": {},
     "output_type": "execute_result"
    }
   ],
   "source": [
    "df = pd.read_csv('matta_table_e4.csv').set_index('Self-rated health')\n",
    "df"
   ]
  },
  {
   "cell_type": "code",
   "execution_count": 3,
   "id": "37e3a451",
   "metadata": {},
   "outputs": [
    {
     "data": {
      "text/html": [
       "<div>\n",
       "<style scoped>\n",
       "    .dataframe tbody tr th:only-of-type {\n",
       "        vertical-align: middle;\n",
       "    }\n",
       "\n",
       "    .dataframe tbody tr th {\n",
       "        vertical-align: top;\n",
       "    }\n",
       "\n",
       "    .dataframe thead th {\n",
       "        text-align: right;\n",
       "    }\n",
       "</style>\n",
       "<table border=\"1\" class=\"dataframe\">\n",
       "  <thead>\n",
       "    <tr style=\"text-align: right;\">\n",
       "      <th></th>\n",
       "      <th>health</th>\n",
       "      <th>belief</th>\n",
       "      <th>serology</th>\n",
       "    </tr>\n",
       "  </thead>\n",
       "  <tbody>\n",
       "    <tr>\n",
       "      <th>0</th>\n",
       "      <td>1</td>\n",
       "      <td>0</td>\n",
       "      <td>0</td>\n",
       "    </tr>\n",
       "    <tr>\n",
       "      <th>1</th>\n",
       "      <td>1</td>\n",
       "      <td>0</td>\n",
       "      <td>0</td>\n",
       "    </tr>\n",
       "    <tr>\n",
       "      <th>2</th>\n",
       "      <td>1</td>\n",
       "      <td>0</td>\n",
       "      <td>0</td>\n",
       "    </tr>\n",
       "    <tr>\n",
       "      <th>3</th>\n",
       "      <td>1</td>\n",
       "      <td>0</td>\n",
       "      <td>0</td>\n",
       "    </tr>\n",
       "    <tr>\n",
       "      <th>4</th>\n",
       "      <td>1</td>\n",
       "      <td>0</td>\n",
       "      <td>0</td>\n",
       "    </tr>\n",
       "    <tr>\n",
       "      <th>...</th>\n",
       "      <td>...</td>\n",
       "      <td>...</td>\n",
       "      <td>...</td>\n",
       "    </tr>\n",
       "    <tr>\n",
       "      <th>26615</th>\n",
       "      <td>8</td>\n",
       "      <td>0</td>\n",
       "      <td>0</td>\n",
       "    </tr>\n",
       "    <tr>\n",
       "      <th>26616</th>\n",
       "      <td>8</td>\n",
       "      <td>0</td>\n",
       "      <td>0</td>\n",
       "    </tr>\n",
       "    <tr>\n",
       "      <th>26617</th>\n",
       "      <td>8</td>\n",
       "      <td>0</td>\n",
       "      <td>0</td>\n",
       "    </tr>\n",
       "    <tr>\n",
       "      <th>26618</th>\n",
       "      <td>8</td>\n",
       "      <td>0</td>\n",
       "      <td>0</td>\n",
       "    </tr>\n",
       "    <tr>\n",
       "      <th>26619</th>\n",
       "      <td>8</td>\n",
       "      <td>1</td>\n",
       "      <td>0</td>\n",
       "    </tr>\n",
       "  </tbody>\n",
       "</table>\n",
       "<p>26620 rows × 3 columns</p>\n",
       "</div>"
      ],
      "text/plain": [
       "       health  belief  serology\n",
       "0           1       0         0\n",
       "1           1       0         0\n",
       "2           1       0         0\n",
       "3           1       0         0\n",
       "4           1       0         0\n",
       "...       ...     ...       ...\n",
       "26615       8       0         0\n",
       "26616       8       0         0\n",
       "26617       8       0         0\n",
       "26618       8       0         0\n",
       "26619       8       1         0\n",
       "\n",
       "[26620 rows x 3 columns]"
      ]
     },
     "execution_count": 3,
     "metadata": {},
     "output_type": "execute_result"
    }
   ],
   "source": [
    "dfs = []\n",
    "char2code = {'-': 0, '+': 1}\n",
    "for health in range(1, 9):\n",
    "    for belief_char in '-+':\n",
    "        belief_code = char2code[belief_char]\n",
    "        for sero_char in '-+':\n",
    "            sero_code = char2code[sero_char]\n",
    "            col = f'Belief{belief_char},Serology{sero_char}'\n",
    "            count = df.loc[health, col]\n",
    "            dfs.append(pd.DataFrame({'health': [health] * count,\n",
    "                                     'belief': [belief_code] * count,\n",
    "                                     'serology': [sero_code] * count}))\n",
    "patients = pd.concat(dfs).reset_index(drop=True).astype(int)\n",
    "patients"
   ]
  },
  {
   "cell_type": "code",
   "execution_count": 4,
   "id": "88beb279",
   "metadata": {},
   "outputs": [
    {
     "data": {
      "text/html": [
       "<div>\n",
       "<style scoped>\n",
       "    .dataframe tbody tr th:only-of-type {\n",
       "        vertical-align: middle;\n",
       "    }\n",
       "\n",
       "    .dataframe tbody tr th {\n",
       "        vertical-align: top;\n",
       "    }\n",
       "\n",
       "    .dataframe thead th {\n",
       "        text-align: right;\n",
       "    }\n",
       "</style>\n",
       "<table border=\"1\" class=\"dataframe\">\n",
       "  <thead>\n",
       "    <tr style=\"text-align: right;\">\n",
       "      <th></th>\n",
       "      <th></th>\n",
       "      <th>health</th>\n",
       "    </tr>\n",
       "    <tr>\n",
       "      <th>belief</th>\n",
       "      <th>serology</th>\n",
       "      <th></th>\n",
       "    </tr>\n",
       "  </thead>\n",
       "  <tbody>\n",
       "    <tr>\n",
       "      <th rowspan=\"2\" valign=\"top\">0</th>\n",
       "      <th>0</th>\n",
       "      <td>2.420757</td>\n",
       "    </tr>\n",
       "    <tr>\n",
       "      <th>1</th>\n",
       "      <td>2.310127</td>\n",
       "    </tr>\n",
       "    <tr>\n",
       "      <th rowspan=\"2\" valign=\"top\">1</th>\n",
       "      <th>0</th>\n",
       "      <td>2.425439</td>\n",
       "    </tr>\n",
       "    <tr>\n",
       "      <th>1</th>\n",
       "      <td>2.407982</td>\n",
       "    </tr>\n",
       "  </tbody>\n",
       "</table>\n",
       "</div>"
      ],
      "text/plain": [
       "                   health\n",
       "belief serology          \n",
       "0      0         2.420757\n",
       "       1         2.310127\n",
       "1      0         2.425439\n",
       "       1         2.407982"
      ]
     },
     "execution_count": 4,
     "metadata": {},
     "output_type": "execute_result"
    }
   ],
   "source": [
    "patients.groupby(['belief', 'serology']).mean()"
   ]
  },
  {
   "cell_type": "code",
   "execution_count": 5,
   "id": "8817c9b2",
   "metadata": {},
   "outputs": [],
   "source": [
    "belief_no = patients.loc[patients['belief'] == 0, 'health'].values\n",
    "belief_yes = patients.loc[patients['belief'] == 1, 'health'].values"
   ]
  },
  {
   "cell_type": "code",
   "execution_count": 6,
   "id": "f85d61f0",
   "metadata": {},
   "outputs": [
    {
     "data": {
      "text/plain": [
       "0.001279023892392761"
      ]
     },
     "execution_count": 6,
     "metadata": {},
     "output_type": "execute_result"
    }
   ],
   "source": [
    "actual = np.mean(belief_no) - np.mean(belief_yes)\n",
    "actual"
   ]
  },
  {
   "cell_type": "code",
   "execution_count": 7,
   "id": "6869bc88",
   "metadata": {},
   "outputs": [
    {
     "data": {
      "text/plain": [
       "array([1, 1, 1, ..., 7, 7, 8])"
      ]
     },
     "execution_count": 7,
     "metadata": {},
     "output_type": "execute_result"
    }
   ],
   "source": [
    "both = np.concatenate([belief_no, belief_yes])\n",
    "both"
   ]
  },
  {
   "cell_type": "code",
   "execution_count": 8,
   "id": "016ba429",
   "metadata": {},
   "outputs": [
    {
     "data": {
      "text/plain": [
       "25713"
      ]
     },
     "execution_count": 8,
     "metadata": {},
     "output_type": "execute_result"
    }
   ],
   "source": [
    "n_no = len(belief_no)\n",
    "n_no"
   ]
  },
  {
   "cell_type": "code",
   "execution_count": 9,
   "id": "e1a14ac4",
   "metadata": {},
   "outputs": [],
   "source": [
    "rng = np.random.default_rng()"
   ]
  },
  {
   "cell_type": "code",
   "execution_count": 10,
   "id": "62cb2fd0",
   "metadata": {},
   "outputs": [],
   "source": [
    "n_iters = 10000\n",
    "diffs = np.zeros(n_iters)\n",
    "for i in range(n_iters):\n",
    "    shuffled = rng.permutation(both)\n",
    "    diffs[i] = np.mean(shuffled[:n_no]) - np.mean(shuffled[n_no:])"
   ]
  },
  {
   "cell_type": "code",
   "execution_count": 11,
   "id": "63a531ec",
   "metadata": {},
   "outputs": [
    {
     "data": {
      "text/plain": [
       "0.5011"
      ]
     },
     "execution_count": 11,
     "metadata": {},
     "output_type": "execute_result"
    }
   ],
   "source": [
    "np.count_nonzero(diffs >= actual) / n_iters"
   ]
  },
  {
   "cell_type": "code",
   "execution_count": 12,
   "id": "ef904d22",
   "metadata": {},
   "outputs": [],
   "source": [
    "covid_no = patients.loc[patients['serology'] == 0, 'health'].values\n",
    "covid_yes = patients.loc[patients['serology'] == 1, 'health'].values"
   ]
  },
  {
   "cell_type": "code",
   "execution_count": 13,
   "id": "8fb6c4c9",
   "metadata": {},
   "outputs": [],
   "source": [
    "n_no_covid = len(covid_no)"
   ]
  },
  {
   "cell_type": "code",
   "execution_count": 14,
   "id": "e3d1e93c",
   "metadata": {},
   "outputs": [
    {
     "data": {
      "text/plain": [
       "0.06996315631464212"
      ]
     },
     "execution_count": 14,
     "metadata": {},
     "output_type": "execute_result"
    }
   ],
   "source": [
    "actual_covid = np.mean(covid_no) - np.mean(covid_yes)\n",
    "actual_covid"
   ]
  },
  {
   "cell_type": "code",
   "execution_count": 15,
   "id": "19416f93",
   "metadata": {},
   "outputs": [],
   "source": [
    "both_covid = np.concatenate([covid_no, covid_yes])"
   ]
  },
  {
   "cell_type": "code",
   "execution_count": 16,
   "id": "0382127a",
   "metadata": {},
   "outputs": [],
   "source": [
    "covid_diffs = np.zeros(n_iters)\n",
    "for i in range(n_iters):\n",
    "    shuffled = rng.permutation(both_covid)\n",
    "    covid_diffs[i] = np.mean(shuffled[:n_no_covid]) - np.mean(shuffled[n_no_covid:])"
   ]
  },
  {
   "cell_type": "code",
   "execution_count": 17,
   "id": "49390111",
   "metadata": {},
   "outputs": [
    {
     "data": {
      "text/plain": [
       "0.0252"
      ]
     },
     "execution_count": 17,
     "metadata": {},
     "output_type": "execute_result"
    }
   ],
   "source": [
    "np.count_nonzero(covid_diffs >= actual_covid) / n_iters"
   ]
  },
  {
   "cell_type": "markdown",
   "id": "b1d5e9c5",
   "metadata": {},
   "source": [
    "## Done.\n",
    "\n",
    "Congratulations, you're done with the assignment!  Be sure to:\n",
    "\n",
    "- **run all the tests** (the next cell has a shortcut for that).\n",
    "- **Save and Checkpoint** from the `File` menu."
   ]
  },
  {
   "cell_type": "code",
   "execution_count": 18,
   "id": "6cdd553c",
   "metadata": {},
   "outputs": [],
   "source": [
    "# For your convenience, you can run this cell to run all the tests at once!\n",
    "import os\n",
    "_ = [ok.grade(q[:-3]) for q in os.listdir(\"tests\") if q.startswith('q')]"
   ]
  }
 ],
 "metadata": {
  "jupytext": {
   "notebook_metadata_filter": "all,-language_info",
   "split_at_heading": true
  },
  "kernelspec": {
   "display_name": "Python 3 (ipykernel)",
   "language": "python",
   "name": "python3"
  },
  "language_info": {
   "codemirror_mode": {
    "name": "ipython",
    "version": 3
   },
   "file_extension": ".py",
   "mimetype": "text/x-python",
   "name": "python",
   "nbconvert_exporter": "python",
   "pygments_lexer": "ipython3",
   "version": "3.10.7"
  }
 },
 "nbformat": 4,
 "nbformat_minor": 5
}
