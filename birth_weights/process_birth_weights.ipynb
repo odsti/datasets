{
 "cells": [
  {
   "cell_type": "markdown",
   "id": "39f7c1ab",
   "metadata": {},
   "source": [
    "# Process births data"
   ]
  },
  {
   "cell_type": "markdown",
   "id": "872463b2",
   "metadata": {},
   "source": [
    "Before running the command to fetch the dataset, I had to do this:"
   ]
  },
  {
   "cell_type": "code",
   "execution_count": 1,
   "id": "e2267554",
   "metadata": {},
   "outputs": [],
   "source": [
    "# https://stackoverflow.com/a/56230607\n",
    "import ssl\n",
    "ssl._create_default_https_context = ssl._create_unverified_context"
   ]
  },
  {
   "cell_type": "code",
   "execution_count": 2,
   "id": "af1f1278",
   "metadata": {},
   "outputs": [],
   "source": [
    "from pathlib import Path\n",
    "import numpy as np\n",
    "import scipy as sp\n",
    "import pandas as pd\n",
    "import matplotlib.pyplot as plt"
   ]
  },
  {
   "cell_type": "code",
   "execution_count": 3,
   "id": "e1b2ef9a",
   "metadata": {},
   "outputs": [
    {
     "data": {
      "text/html": [
       "<div>\n",
       "<style scoped>\n",
       "    .dataframe tbody tr th:only-of-type {\n",
       "        vertical-align: middle;\n",
       "    }\n",
       "\n",
       "    .dataframe tbody tr th {\n",
       "        vertical-align: top;\n",
       "    }\n",
       "\n",
       "    .dataframe thead th {\n",
       "        text-align: right;\n",
       "    }\n",
       "</style>\n",
       "<table border=\"1\" class=\"dataframe\">\n",
       "  <thead>\n",
       "    <tr style=\"text-align: right;\">\n",
       "      <th></th>\n",
       "      <th>INST</th>\n",
       "      <th>RPLACE</th>\n",
       "      <th>RCOUNTY</th>\n",
       "      <th>PLURAL</th>\n",
       "      <th>BDATE</th>\n",
       "      <th>BMONTH</th>\n",
       "      <th>BDAY</th>\n",
       "      <th>BYEAR</th>\n",
       "      <th>SEX</th>\n",
       "      <th>RACE</th>\n",
       "      <th>...</th>\n",
       "      <th>MOTHERTR</th>\n",
       "      <th>IANEMIA</th>\n",
       "      <th>BINJURY</th>\n",
       "      <th>FAS</th>\n",
       "      <th>HYALINE</th>\n",
       "      <th>ASPIRATE</th>\n",
       "      <th>VENTLESS</th>\n",
       "      <th>VENTMORE</th>\n",
       "      <th>ISEIZURE</th>\n",
       "      <th>OTHINF</th>\n",
       "    </tr>\n",
       "  </thead>\n",
       "  <tbody>\n",
       "    <tr>\n",
       "      <th>0</th>\n",
       "      <td>1</td>\n",
       "      <td>6800</td>\n",
       "      <td>68</td>\n",
       "      <td>1</td>\n",
       "      <td>2008-01-01</td>\n",
       "      <td>1</td>\n",
       "      <td>1</td>\n",
       "      <td>2008</td>\n",
       "      <td>2</td>\n",
       "      <td>1</td>\n",
       "      <td>...</td>\n",
       "      <td>2</td>\n",
       "      <td>0</td>\n",
       "      <td>0</td>\n",
       "      <td>0</td>\n",
       "      <td>0</td>\n",
       "      <td>0</td>\n",
       "      <td>0</td>\n",
       "      <td>0</td>\n",
       "      <td>0</td>\n",
       "      <td>0</td>\n",
       "    </tr>\n",
       "    <tr>\n",
       "      <th>1</th>\n",
       "      <td>1</td>\n",
       "      <td>160</td>\n",
       "      <td>1</td>\n",
       "      <td>1</td>\n",
       "      <td>2008-01-02</td>\n",
       "      <td>1</td>\n",
       "      <td>2</td>\n",
       "      <td>2008</td>\n",
       "      <td>2</td>\n",
       "      <td>2</td>\n",
       "      <td>...</td>\n",
       "      <td>2</td>\n",
       "      <td>0</td>\n",
       "      <td>0</td>\n",
       "      <td>0</td>\n",
       "      <td>0</td>\n",
       "      <td>0</td>\n",
       "      <td>0</td>\n",
       "      <td>0</td>\n",
       "      <td>0</td>\n",
       "      <td>0</td>\n",
       "    </tr>\n",
       "    <tr>\n",
       "      <th>2</th>\n",
       "      <td>1</td>\n",
       "      <td>190</td>\n",
       "      <td>1</td>\n",
       "      <td>1</td>\n",
       "      <td>2008-01-02</td>\n",
       "      <td>1</td>\n",
       "      <td>2</td>\n",
       "      <td>2008</td>\n",
       "      <td>1</td>\n",
       "      <td>1</td>\n",
       "      <td>...</td>\n",
       "      <td>2</td>\n",
       "      <td>0</td>\n",
       "      <td>0</td>\n",
       "      <td>0</td>\n",
       "      <td>0</td>\n",
       "      <td>0</td>\n",
       "      <td>0</td>\n",
       "      <td>0</td>\n",
       "      <td>0</td>\n",
       "      <td>0</td>\n",
       "    </tr>\n",
       "    <tr>\n",
       "      <th>3</th>\n",
       "      <td>1</td>\n",
       "      <td>4100</td>\n",
       "      <td>41</td>\n",
       "      <td>1</td>\n",
       "      <td>2008-01-03</td>\n",
       "      <td>1</td>\n",
       "      <td>3</td>\n",
       "      <td>2008</td>\n",
       "      <td>2</td>\n",
       "      <td>1</td>\n",
       "      <td>...</td>\n",
       "      <td>2</td>\n",
       "      <td>0</td>\n",
       "      <td>0</td>\n",
       "      <td>0</td>\n",
       "      <td>0</td>\n",
       "      <td>0</td>\n",
       "      <td>0</td>\n",
       "      <td>0</td>\n",
       "      <td>0</td>\n",
       "      <td>0</td>\n",
       "    </tr>\n",
       "    <tr>\n",
       "      <th>4</th>\n",
       "      <td>1</td>\n",
       "      <td>160</td>\n",
       "      <td>1</td>\n",
       "      <td>1</td>\n",
       "      <td>2008-01-03</td>\n",
       "      <td>1</td>\n",
       "      <td>3</td>\n",
       "      <td>2008</td>\n",
       "      <td>2</td>\n",
       "      <td>1</td>\n",
       "      <td>...</td>\n",
       "      <td>2</td>\n",
       "      <td>0</td>\n",
       "      <td>0</td>\n",
       "      <td>0</td>\n",
       "      <td>0</td>\n",
       "      <td>0</td>\n",
       "      <td>0</td>\n",
       "      <td>0</td>\n",
       "      <td>0</td>\n",
       "      <td>0</td>\n",
       "    </tr>\n",
       "  </tbody>\n",
       "</table>\n",
       "<p>5 rows × 125 columns</p>\n",
       "</div>"
      ],
      "text/plain": [
       "   INST  RPLACE  RCOUNTY  PLURAL       BDATE  BMONTH  BDAY  BYEAR  SEX  RACE  \\\n",
       "0     1    6800       68       1  2008-01-01       1     1   2008    2     1   \n",
       "1     1     160        1       1  2008-01-02       1     2   2008    2     2   \n",
       "2     1     190        1       1  2008-01-02       1     2   2008    1     1   \n",
       "3     1    4100       41       1  2008-01-03       1     3   2008    2     1   \n",
       "4     1     160        1       1  2008-01-03       1     3   2008    2     1   \n",
       "\n",
       "   ...  MOTHERTR  IANEMIA  BINJURY  FAS  HYALINE  ASPIRATE  VENTLESS  \\\n",
       "0  ...         2        0        0    0        0         0         0   \n",
       "1  ...         2        0        0    0        0         0         0   \n",
       "2  ...         2        0        0    0        0         0         0   \n",
       "3  ...         2        0        0    0        0         0         0   \n",
       "4  ...         2        0        0    0        0         0         0   \n",
       "\n",
       "   VENTMORE  ISEIZURE  OTHINF  \n",
       "0         0         0       0  \n",
       "1         0         0       0  \n",
       "2         0         0       0  \n",
       "3         0         0       0  \n",
       "4         0         0       0  \n",
       "\n",
       "[5 rows x 125 columns]"
      ]
     },
     "execution_count": 3,
     "metadata": {},
     "output_type": "execute_result"
    }
   ],
   "source": [
    "# This command needed the SSL fix above.\n",
    "df = pd.read_csv('https://github.com/HwaiTengTeoh/Newborns-Weight-Prediction/raw/refs/heads/main/data/2008_births.zip')\n",
    "df.head()"
   ]
  },
  {
   "cell_type": "markdown",
   "id": "ec1741d3",
   "metadata": {},
   "source": [
    "Assume, for our purposes, and columns of interest, that all 99 values are labels for missing values:"
   ]
  },
  {
   "cell_type": "code",
   "execution_count": 4,
   "id": "d8a22d82",
   "metadata": {},
   "outputs": [],
   "source": [
    "# Copy to defragment the data frame, for performance.\n",
    "df_nan = df.replace(99, np.nan).copy()"
   ]
  },
  {
   "cell_type": "markdown",
   "id": "e5019f98",
   "metadata": {},
   "source": [
    "See the file `original/data_description.txt` for column definitions."
   ]
  },
  {
   "cell_type": "code",
   "execution_count": 5,
   "id": "2159e747",
   "metadata": {},
   "outputs": [],
   "source": [
    "# Convert pounds and ounces to kilograms.\n",
    "df_nan['birth_weight'] = (df_nan['BPOUND'] * sp.constants.lb +\n",
    "                          df_nan['BOUNCE'] * sp.constants.oz).round(3)"
   ]
  },
  {
   "cell_type": "code",
   "execution_count": 6,
   "id": "0d133844",
   "metadata": {},
   "outputs": [
    {
     "data": {
      "text/html": [
       "<div>\n",
       "<style scoped>\n",
       "    .dataframe tbody tr th:only-of-type {\n",
       "        vertical-align: middle;\n",
       "    }\n",
       "\n",
       "    .dataframe tbody tr th {\n",
       "        vertical-align: top;\n",
       "    }\n",
       "\n",
       "    .dataframe thead th {\n",
       "        text-align: right;\n",
       "    }\n",
       "</style>\n",
       "<table border=\"1\" class=\"dataframe\">\n",
       "  <thead>\n",
       "    <tr style=\"text-align: right;\">\n",
       "      <th></th>\n",
       "      <th>sex</th>\n",
       "      <th>gestation_weeks</th>\n",
       "      <th>mother_daily_cig_num</th>\n",
       "      <th>mother_daily_drink_num</th>\n",
       "      <th>birth_weight</th>\n",
       "    </tr>\n",
       "  </thead>\n",
       "  <tbody>\n",
       "    <tr>\n",
       "      <th>0</th>\n",
       "      <td>2</td>\n",
       "      <td>35.0</td>\n",
       "      <td>0.0</td>\n",
       "      <td>0.0</td>\n",
       "      <td>1.843</td>\n",
       "    </tr>\n",
       "    <tr>\n",
       "      <th>1</th>\n",
       "      <td>2</td>\n",
       "      <td>40.0</td>\n",
       "      <td>0.0</td>\n",
       "      <td>0.0</td>\n",
       "      <td>3.714</td>\n",
       "    </tr>\n",
       "    <tr>\n",
       "      <th>2</th>\n",
       "      <td>1</td>\n",
       "      <td>36.0</td>\n",
       "      <td>0.0</td>\n",
       "      <td>0.0</td>\n",
       "      <td>4.082</td>\n",
       "    </tr>\n",
       "    <tr>\n",
       "      <th>3</th>\n",
       "      <td>2</td>\n",
       "      <td>38.0</td>\n",
       "      <td>0.0</td>\n",
       "      <td>0.0</td>\n",
       "      <td>3.345</td>\n",
       "    </tr>\n",
       "    <tr>\n",
       "      <th>4</th>\n",
       "      <td>2</td>\n",
       "      <td>42.0</td>\n",
       "      <td>0.0</td>\n",
       "      <td>0.0</td>\n",
       "      <td>4.281</td>\n",
       "    </tr>\n",
       "    <tr>\n",
       "      <th>...</th>\n",
       "      <td>...</td>\n",
       "      <td>...</td>\n",
       "      <td>...</td>\n",
       "      <td>...</td>\n",
       "      <td>...</td>\n",
       "    </tr>\n",
       "    <tr>\n",
       "      <th>133417</th>\n",
       "      <td>1</td>\n",
       "      <td>34.0</td>\n",
       "      <td>0.0</td>\n",
       "      <td>NaN</td>\n",
       "      <td>2.948</td>\n",
       "    </tr>\n",
       "    <tr>\n",
       "      <th>133418</th>\n",
       "      <td>2</td>\n",
       "      <td>40.0</td>\n",
       "      <td>0.0</td>\n",
       "      <td>NaN</td>\n",
       "      <td>4.139</td>\n",
       "    </tr>\n",
       "    <tr>\n",
       "      <th>133419</th>\n",
       "      <td>1</td>\n",
       "      <td>41.0</td>\n",
       "      <td>0.0</td>\n",
       "      <td>NaN</td>\n",
       "      <td>3.827</td>\n",
       "    </tr>\n",
       "    <tr>\n",
       "      <th>133420</th>\n",
       "      <td>2</td>\n",
       "      <td>39.0</td>\n",
       "      <td>98.0</td>\n",
       "      <td>NaN</td>\n",
       "      <td>2.637</td>\n",
       "    </tr>\n",
       "    <tr>\n",
       "      <th>133421</th>\n",
       "      <td>1</td>\n",
       "      <td>38.0</td>\n",
       "      <td>0.0</td>\n",
       "      <td>NaN</td>\n",
       "      <td>3.260</td>\n",
       "    </tr>\n",
       "  </tbody>\n",
       "</table>\n",
       "<p>133422 rows × 5 columns</p>\n",
       "</div>"
      ],
      "text/plain": [
       "        sex  gestation_weeks  mother_daily_cig_num  mother_daily_drink_num  \\\n",
       "0         2             35.0                   0.0                     0.0   \n",
       "1         2             40.0                   0.0                     0.0   \n",
       "2         1             36.0                   0.0                     0.0   \n",
       "3         2             38.0                   0.0                     0.0   \n",
       "4         2             42.0                   0.0                     0.0   \n",
       "...     ...              ...                   ...                     ...   \n",
       "133417    1             34.0                   0.0                     NaN   \n",
       "133418    2             40.0                   0.0                     NaN   \n",
       "133419    1             41.0                   0.0                     NaN   \n",
       "133420    2             39.0                  98.0                     NaN   \n",
       "133421    1             38.0                   0.0                     NaN   \n",
       "\n",
       "        birth_weight  \n",
       "0              1.843  \n",
       "1              3.714  \n",
       "2              4.082  \n",
       "3              3.345  \n",
       "4              4.281  \n",
       "...              ...  \n",
       "133417         2.948  \n",
       "133418         4.139  \n",
       "133419         3.827  \n",
       "133420         2.637  \n",
       "133421         3.260  \n",
       "\n",
       "[133422 rows x 5 columns]"
      ]
     },
     "execution_count": 6,
     "metadata": {},
     "output_type": "execute_result"
    }
   ],
   "source": [
    "# Copy and rename columns\n",
    "out = (df_nan[['SEX', 'WEEKS', 'CIGNUM', 'DRINKNUM', 'birth_weight']].\n",
    "       rename(columns={'SEX': 'sex',\n",
    "                       'WEEKS': 'gestation_weeks',\n",
    "                       'CIGNUM': 'mother_daily_cig_num',\n",
    "                       'DRINKNUM': 'mother_daily_drink_num'}))\n",
    "out"
   ]
  },
  {
   "cell_type": "markdown",
   "id": "0cd8ce54",
   "metadata": {},
   "source": [
    "There are a few missing values in gestation length, cigarette and drink numbers."
   ]
  },
  {
   "cell_type": "code",
   "execution_count": 7,
   "id": "53d53495",
   "metadata": {},
   "outputs": [
    {
     "data": {
      "text/plain": [
       "sex                       1.000000\n",
       "gestation_weeks           0.999355\n",
       "mother_daily_cig_num      0.998628\n",
       "mother_daily_drink_num    0.993727\n",
       "birth_weight              0.999715\n",
       "dtype: float64"
      ]
     },
     "execution_count": 7,
     "metadata": {},
     "output_type": "execute_result"
    }
   ],
   "source": [
    "out.count() / len(out)"
   ]
  },
  {
   "cell_type": "markdown",
   "id": "21430440",
   "metadata": {},
   "source": [
    "These missing values seem rare enough that dropping the missing values will have very little effect."
   ]
  },
  {
   "cell_type": "code",
   "execution_count": 8,
   "id": "fb2b3d48",
   "metadata": {},
   "outputs": [],
   "source": [
    "out = out.dropna()"
   ]
  },
  {
   "cell_type": "code",
   "execution_count": 9,
   "id": "416698eb",
   "metadata": {},
   "outputs": [],
   "source": [
    "out_dir = Path('processed')\n",
    "if not out_dir.is_dir():\n",
    "    out_dir.mkdir()\n",
    "out.to_csv(out_dir / 'birth_weights.csv', index=None)"
   ]
  },
  {
   "cell_type": "markdown",
   "id": "f2c5b9d5",
   "metadata": {},
   "source": [
    "Review the histogram."
   ]
  },
  {
   "cell_type": "code",
   "execution_count": 10,
   "id": "d319a1c7",
   "metadata": {},
   "outputs": [
    {
     "data": {
      "text/plain": [
       "array([[<Axes: title={'center': 'birth_weight'}>]], dtype=object)"
      ]
     },
     "execution_count": 10,
     "metadata": {},
     "output_type": "execute_result"
    },
    {
     "data": {
      "image/png": "[encoded data removed]",
      "text/plain": [
       "<Figure size 640x480 with 1 Axes>"
      ]
     },
     "metadata": {},
     "output_type": "display_data"
    }
   ],
   "source": [
    "out.hist('birth_weight')"
   ]
  }
 ],
 "metadata": {
  "jupytext": {
   "notebook_metadata_filter": "all,-language_info",
   "split_at_heading": true
  },
  "kernelspec": {
   "display_name": "Python 3 (ipykernel)",
   "language": "python",
   "name": "python3"
  },
  "language_info": {
   "codemirror_mode": {
    "name": "ipython",
    "version": 3
   },
   "file_extension": ".py",
   "mimetype": "text/x-python",
   "name": "python",
   "nbconvert_exporter": "python",
   "pygments_lexer": "ipython3",
   "version": "3.12.7"
  }
 },
 "nbformat": 4,
 "nbformat_minor": 5
}
